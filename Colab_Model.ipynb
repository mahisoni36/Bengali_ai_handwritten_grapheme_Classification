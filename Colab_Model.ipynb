{
  "nbformat": 4,
  "nbformat_minor": 0,
  "metadata": {
    "colab": {
      "name": "Colab_Model.ipynb",
      "provenance": [],
      "collapsed_sections": [],
      "machine_shape": "hm",
      "include_colab_link": true
    },
    "kernelspec": {
      "name": "python3",
      "display_name": "Python 3"
    },
    "accelerator": "GPU"
  },
  "cells": [
    {
      "cell_type": "markdown",
      "metadata": {
        "id": "view-in-github",
        "colab_type": "text"
      },
      "source": [
        "<a href=\"https://colab.research.google.com/github/mahisoni36/Bengali_ai_handwritten_grapheme_Classification/blob/master/Colab_Model.ipynb\" target=\"_parent\"><img src=\"https://colab.research.google.com/assets/colab-badge.svg\" alt=\"Open In Colab\"/></a>"
      ]
    },
    {
      "cell_type": "code",
      "metadata": {
        "id": "lh8PnegstEBO",
        "colab_type": "code",
        "colab": {}
      },
      "source": [
        "from google.colab import drive\n",
        "drive.mount('/content/gdrive')"
      ],
      "execution_count": 0,
      "outputs": []
    },
    {
      "cell_type": "markdown",
      "metadata": {
        "id": "CCpVX5w4qIpl",
        "colab_type": "text"
      },
      "source": [
        "# **Load Required Libraries**"
      ]
    },
    {
      "cell_type": "code",
      "metadata": {
        "id": "8QCA3iKdtb2L",
        "colab_type": "code",
        "colab": {}
      },
      "source": [
        "import os\n",
        "import cv2\n",
        "import numpy as np\n",
        "import pandas as pd\n",
        "import pyarrow.parquet as pq\n",
        "import matplotlib.pyplot as plt"
      ],
      "execution_count": 0,
      "outputs": []
    },
    {
      "cell_type": "markdown",
      "metadata": {
        "id": "hQd6rlu1pr3u",
        "colab_type": "text"
      },
      "source": [
        "# **Download  dataset from Kaggle**"
      ]
    },
    {
      "cell_type": "code",
      "metadata": {
        "id": "KWTgwdjXjOCE",
        "colab_type": "code",
        "colab": {}
      },
      "source": [
        "! pip install -q kaggle"
      ],
      "execution_count": 0,
      "outputs": []
    },
    {
      "cell_type": "code",
      "metadata": {
        "id": "HtWS1fUIjSja",
        "colab_type": "code",
        "colab": {}
      },
      "source": [
        "from google.colab import files\n",
        "files.upload()"
      ],
      "execution_count": 0,
      "outputs": []
    },
    {
      "cell_type": "code",
      "metadata": {
        "id": "6wz9CO2KjSeQ",
        "colab_type": "code",
        "colab": {}
      },
      "source": [
        "! mkdir ~/.kaggle"
      ],
      "execution_count": 0,
      "outputs": []
    },
    {
      "cell_type": "code",
      "metadata": {
        "id": "JnB25cUejSaB",
        "colab_type": "code",
        "colab": {}
      },
      "source": [
        "! cp kaggle.json ~/.kaggle/"
      ],
      "execution_count": 0,
      "outputs": []
    },
    {
      "cell_type": "code",
      "metadata": {
        "id": "tWrgc05ijSVp",
        "colab_type": "code",
        "colab": {}
      },
      "source": [
        "! kaggle competitions download -c bengaliai-cv19"
      ],
      "execution_count": 0,
      "outputs": []
    },
    {
      "cell_type": "code",
      "metadata": {
        "id": "p1oWdB48jerD",
        "colab_type": "code",
        "colab": {}
      },
      "source": [
        "import os  \n",
        "os.chdir('/content/')"
      ],
      "execution_count": 0,
      "outputs": []
    },
    {
      "cell_type": "code",
      "metadata": {
        "id": "Td9JSSetqg5o",
        "colab_type": "code",
        "colab": {}
      },
      "source": [
        "! ls"
      ],
      "execution_count": 0,
      "outputs": []
    },
    {
      "cell_type": "code",
      "metadata": {
        "id": "talEdnsVjecc",
        "colab_type": "code",
        "colab": {}
      },
      "source": [
        "!unzip train.csv.zip"
      ],
      "execution_count": 0,
      "outputs": []
    },
    {
      "cell_type": "code",
      "metadata": {
        "id": "DjfG8cMejSF5",
        "colab_type": "code",
        "colab": {}
      },
      "source": [
        "!unzip test_image_data_0.parquet.zip\n",
        "!unzip test_image_data_1.parquet.zip\n",
        "!unzip test_image_data_2.parquet.zip\n",
        "!unzip test_image_data_3.parquet.zip"
      ],
      "execution_count": 0,
      "outputs": []
    },
    {
      "cell_type": "code",
      "metadata": {
        "id": "EaDeydOPjkV1",
        "colab_type": "code",
        "colab": {}
      },
      "source": [
        "!unzip train_image_data_0.parquet.zip\n",
        "!unzip train_image_data_1.parquet.zip\n",
        "!unzip train_image_data_2.parquet.zip\n",
        "!unzip train_image_data_3.parquet.zip"
      ],
      "execution_count": 0,
      "outputs": []
    },
    {
      "cell_type": "markdown",
      "metadata": {
        "id": "4SzTTBDb5hPr",
        "colab_type": "text"
      },
      "source": [
        "#**Keras Neural Nework Model**"
      ]
    },
    {
      "cell_type": "code",
      "metadata": {
        "id": "-CqDp5fcm8u3",
        "colab_type": "code",
        "colab": {}
      },
      "source": [
        "import tensorflow as tf\n",
        "from tensorflow.keras.models import Model\n",
        "from tensorflow.keras.optimizers import Adam\n",
        "from tensorflow.keras.layers import Dense,Conv2D,Flatten,MaxPool2D,Dropout,BatchNormalization, Input"
      ],
      "execution_count": 0,
      "outputs": []
    },
    {
      "cell_type": "code",
      "metadata": {
        "id": "4a10rLke5kHz",
        "colab_type": "code",
        "colab": {}
      },
      "source": [
        "inputs = Input(shape = (137, 236, 1))\n",
        "\n",
        "model = Conv2D(filters=32, kernel_size=3, padding='SAME', activation='relu', input_shape=(137,236, 1))(inputs)\n",
        "model = Conv2D(filters=32, kernel_size=3,strides=2, padding='SAME', activation='relu')(model)\n",
        "\n",
        "model = Conv2D(filters=32, kernel_size=3, padding='SAME', activation='relu')(model)\n",
        "model = BatchNormalization(momentum=0.15)(model)\n",
        "model = MaxPool2D(pool_size=(2, 2))(model)\n",
        "\n",
        "model = Conv2D(filters=32, kernel_size=5, padding='SAME', activation='relu')(model)\n",
        "model = Dropout(rate=0.4)(model)\n",
        "\n",
        "model = Conv2D(filters=64, kernel_size=3, strides=2,padding='SAME', activation='relu')(model)\n",
        "model = Conv2D(filters=64, kernel_size=3, padding='SAME', activation='relu')(model)\n",
        "model = BatchNormalization(momentum=0.15)(model)\n",
        "model = MaxPool2D(pool_size=(2, 2))(model)\n",
        "\n",
        "model = Conv2D(filters=64, kernel_size=5, padding='SAME', activation='relu')(model)\n",
        "model = BatchNormalization(momentum=0.15)(model)\n",
        "model = Dropout(rate=0.3)(model)\n",
        "\n",
        "model = Conv2D(filters=128, kernel_size=3,strides=2, padding='SAME', activation='relu')(model)\n",
        "model = BatchNormalization(momentum=0.15)(model)\n",
        "model = MaxPool2D(pool_size=(2, 2))(model)\n",
        "\n",
        "model = Conv2D(filters=128, kernel_size=5, padding='SAME', activation='relu')(model)\n",
        "model = BatchNormalization(momentum=0.15)(model)\n",
        "model = Dropout(rate=0.5)(model)\n",
        "\n",
        "model = Conv2D(filters=256, kernel_size=3, padding='SAME', activation='relu')(model)\n",
        "model = BatchNormalization(momentum=0.15)(model)\n",
        "model = MaxPool2D(pool_size=(2, 2))(model)\n",
        "\n",
        "model = Conv2D(filters=256, kernel_size=5, padding='SAME', activation='relu')(model)\n",
        "model = BatchNormalization(momentum=0.15)(model)\n",
        "model = Dropout(rate=0.3)(model)\n",
        "\n",
        "model = Flatten()(model)\n",
        "model = Dropout(rate=0.3)(model)\n",
        "\n",
        "dense = Dense(256, activation = \"relu\")(model)\n",
        "\n",
        "head_root = Dense(168, activation = 'softmax')(dense)\n",
        "head_vowel = Dense(11, activation = 'softmax')(dense)\n",
        "head_consonant = Dense(7, activation = 'softmax')(dense)\n",
        "\n",
        "model = Model(inputs=inputs, outputs=[head_root, head_vowel, head_consonant])"
      ],
      "execution_count": 0,
      "outputs": []
    },
    {
      "cell_type": "code",
      "metadata": {
        "id": "zhRIbgh4sqR9",
        "colab_type": "code",
        "colab": {}
      },
      "source": [
        "tf.keras.utils.plot_model(\n",
        "    model, to_file='model.png', show_shapes=False, show_layer_names=True,\n",
        "    rankdir='TB', expand_nested=True, dpi=65\n",
        ")"
      ],
      "execution_count": 0,
      "outputs": []
    },
    {
      "cell_type": "code",
      "metadata": {
        "id": "n-X8yg9G9uyc",
        "colab_type": "code",
        "colab": {}
      },
      "source": [
        "model.compile('adam','categorical_crossentropy',metrics=['accuracy'])"
      ],
      "execution_count": 0,
      "outputs": []
    },
    {
      "cell_type": "code",
      "metadata": {
        "id": "eCISainwEIvR",
        "colab_type": "code",
        "colab": {}
      },
      "source": [
        "model.summary()"
      ],
      "execution_count": 0,
      "outputs": []
    },
    {
      "cell_type": "code",
      "metadata": {
        "id": "s7sWGUerOJS1",
        "colab_type": "code",
        "colab": {}
      },
      "source": [
        "tag_data= pd.read_csv('train.csv')"
      ],
      "execution_count": 0,
      "outputs": []
    },
    {
      "cell_type": "code",
      "metadata": {
        "id": "Q80FcggKT5oG",
        "colab_type": "code",
        "colab": {}
      },
      "source": [
        "tag_data.head()"
      ],
      "execution_count": 0,
      "outputs": []
    },
    {
      "cell_type": "code",
      "metadata": {
        "id": "tgho-VIvuL5x",
        "colab_type": "code",
        "colab": {}
      },
      "source": [
        "tag_data = tag_data.drop(['grapheme','image_id'],axis=1)"
      ],
      "execution_count": 0,
      "outputs": []
    },
    {
      "cell_type": "code",
      "metadata": {
        "id": "B6T6OmPXt7U3",
        "colab_type": "code",
        "colab": {}
      },
      "source": [
        "tag_data_root = tag_data['grapheme_root'].values\n",
        "tag_data_vowel = tag_data['vowel_diacritic'].values\n",
        "tag_data_consonant = tag_data['consonant_diacritic'].values"
      ],
      "execution_count": 0,
      "outputs": []
    },
    {
      "cell_type": "code",
      "metadata": {
        "id": "VQ8arpo4Ulfz",
        "colab_type": "code",
        "colab": {}
      },
      "source": [
        "len(tag_data_consonant)"
      ],
      "execution_count": 0,
      "outputs": []
    },
    {
      "cell_type": "markdown",
      "metadata": {
        "id": "jwpDu3ZMDAJv",
        "colab_type": "text"
      },
      "source": [
        "# **Train Model**"
      ]
    },
    {
      "cell_type": "code",
      "metadata": {
        "id": "FFp1fhh_pmqr",
        "colab_type": "code",
        "colab": {}
      },
      "source": [
        "from sklearn.model_selection import train_test_split"
      ],
      "execution_count": 0,
      "outputs": []
    },
    {
      "cell_type": "code",
      "metadata": {
        "id": "y4yPWqqR1Yk7",
        "colab_type": "code",
        "colab": {}
      },
      "source": [
        "dictionary = {}\n",
        "for i in range(4):\n",
        "    data  = pq.read_table(f'train_image_data_{i}.parquet').to_pandas()\n",
        "    data = data.drop(['image_id'], axis=1)\n",
        "    print(\"\\n\\n\")\n",
        "    print('=='*150)\n",
        "\n",
        "    data = data.values.reshape(-1, 137, 236, 1)\n",
        "    \n",
        "    Y_train_root = tag_data_root[i*50210:(i+1)*50210]\n",
        "    Y_train_vowel = tag_data_vowel[i*50210:(i+1)*50210]\n",
        "    Y_train_consonant = tag_data_consonant[i*50210:(i+1)*50210]\n",
        "    \n",
        "    Y_train_root = tf.keras.utils.to_categorical(Y_train_root)\n",
        "    Y_train_vowel = tf.keras.utils.to_categorical(Y_train_vowel)\n",
        "    Y_train_consonant = tf.keras.utils.to_categorical(Y_train_consonant)\n",
        "\n",
        "    x_train, x_test, y_train_root, y_test_root, y_train_vowel, y_test_vowel, y_train_consonant, y_test_consonant = train_test_split(data, Y_train_root, Y_train_vowel, Y_train_consonant, test_size=0.2)\n",
        "    print(x_test.shape,x_train.shape)\n",
        "    history = model.fit(x_train, [y_train_root, y_train_vowel, y_train_consonant], batch_size=128,epochs =10 ,validation_data=(x_test,[y_test_root,y_test_vowel,y_test_consonant]))\n",
        "\n",
        "    if(i==0):\n",
        "       l = list(history.history.keys())\n",
        "       for j in l:\n",
        "         dictionary[j] = list()\n",
        "    for j in l:\n",
        "      for k in range(len(history.history[j])):\n",
        "        dictionary[j].append(history.history[j][k])\n",
        "\n",
        "    del data\n",
        "    del Y_train_root\n",
        "    del Y_train_vowel\n",
        "    del Y_train_consonant\n"
      ],
      "execution_count": 0,
      "outputs": []
    },
    {
      "cell_type": "code",
      "metadata": {
        "id": "TBlnjVX-i0c-",
        "colab_type": "code",
        "colab": {}
      },
      "source": [
        " from matplotlib import figure "
      ],
      "execution_count": 0,
      "outputs": []
    },
    {
      "cell_type": "markdown",
      "metadata": {
        "id": "O49dPOaMDOoz",
        "colab_type": "text"
      },
      "source": [
        "# **Loss And Accuracy Graphs**"
      ]
    },
    {
      "cell_type": "code",
      "metadata": {
        "id": "mGZZYoCXMTOb",
        "colab_type": "code",
        "colab": {}
      },
      "source": [
        "loss_train = dictionary['loss']\n",
        "loss_val = dictionary['val_loss']\n",
        "epochs = range(1,41)\n",
        "plt.figure(figsize=(10,6))\n",
        "plt.plot(epochs, loss_train, 'g', label='Training loss')\n",
        "plt.plot(epochs, loss_val, 'b', label='validation loss')\n",
        "plt.title('Training and Validation loss')\n",
        "plt.xlabel('Epochs')\n",
        "plt.ylabel('Loss')\n",
        "plt.legend()\n",
        "plt.show()"
      ],
      "execution_count": 0,
      "outputs": []
    },
    {
      "cell_type": "code",
      "metadata": {
        "id": "cT3Q88pyYp3V",
        "colab_type": "code",
        "colab": {}
      },
      "source": [
        "lis = ['Grapheme Root','Vowels','Consonant']\n",
        "for i in range(1,4):\n",
        "  loss_train = dictionary['dense_'+str(i)+'_loss']\n",
        "  loss_val = dictionary['val_dense_'+str(i)+'_loss']\n",
        "  epochs = range(1,41)\n",
        "  plt.plot(epochs, loss_train, 'g', label='Training loss of '+lis[i-1])\n",
        "  plt.plot(epochs, loss_val, 'b', label='validation loss of '+lis[i-1])\n",
        "  plt.title('Training and Validation loss of '+lis[i-1])\n",
        "  plt.xlabel('Epochs')\n",
        "  plt.ylabel('Loss')\n",
        "  plt.legend()\n",
        "  plt.show()"
      ],
      "execution_count": 0,
      "outputs": []
    },
    {
      "cell_type": "code",
      "metadata": {
        "id": "9kL1zdPUjZ9z",
        "colab_type": "code",
        "colab": {}
      },
      "source": [
        "lis = ['Grapheme Root','Vowels','Consonant']\n",
        "for i in range(1,4):\n",
        "  loss_train = dictionary['dense_'+str(i)+'_accuracy']\n",
        "  loss_val = dictionary['val_dense_'+str(i)+'_accuracy']\n",
        "  epochs = range(1,41)\n",
        "  plt.plot(epochs, loss_train, 'g', label='Training Accuracy of '+lis[i-1])\n",
        "  plt.plot(epochs, loss_val, 'b', label='validation Accuracy of '+lis[i-1])\n",
        "  plt.title('Training and Validation Accuracy of '+lis[i-1])\n",
        "  plt.xlabel('Epochs')\n",
        "  plt.ylabel('Accuracy--->>')\n",
        "  plt.legend()\n",
        "  plt.show()"
      ],
      "execution_count": 0,
      "outputs": []
    },
    {
      "cell_type": "markdown",
      "metadata": {
        "id": "SmhfmwUJDW8c",
        "colab_type": "text"
      },
      "source": [
        "# **Save Model In Drive**"
      ]
    },
    {
      "cell_type": "code",
      "metadata": {
        "id": "72aV3a9GkKdZ",
        "colab_type": "code",
        "colab": {}
      },
      "source": [
        "os.chdir('/content/gdrive/My Drive')"
      ],
      "execution_count": 0,
      "outputs": []
    },
    {
      "cell_type": "code",
      "metadata": {
        "id": "XdgX0mRXQI3s",
        "colab_type": "code",
        "colab": {}
      },
      "source": [
        "model_json = model.to_json()\n",
        "with open(\"model_data.json\",\"w\") as json_file:\n",
        "  json_file.write(model_json)\n",
        "  model.save(\"model_data.h5\")"
      ],
      "execution_count": 0,
      "outputs": []
    },
    {
      "cell_type": "markdown",
      "metadata": {
        "id": "ezDzANsJCoaN",
        "colab_type": "text"
      },
      "source": [
        "## **Load Test Data and Predict Output**"
      ]
    },
    {
      "cell_type": "code",
      "metadata": {
        "id": "P2CNzZ2flWny",
        "colab_type": "code",
        "colab": {}
      },
      "source": [
        "os.chdir('/content/')"
      ],
      "execution_count": 0,
      "outputs": []
    },
    {
      "cell_type": "code",
      "metadata": {
        "id": "nU3pyPxgjhKL",
        "colab_type": "code",
        "colab": {}
      },
      "source": [
        "preds_dict = {\n",
        "    'grapheme_root': [],\n",
        "    'vowel_diacritic': [],\n",
        "    'consonant_diacritic': []\n",
        "}"
      ],
      "execution_count": 0,
      "outputs": []
    },
    {
      "cell_type": "code",
      "metadata": {
        "id": "jDSMuxrPCJ88",
        "colab_type": "code",
        "colab": {}
      },
      "source": [
        "components = ['consonant_diacritic', 'grapheme_root', 'vowel_diacritic']\n",
        "target=[] \n",
        "row_id=[] "
      ],
      "execution_count": 0,
      "outputs": []
    },
    {
      "cell_type": "code",
      "metadata": {
        "id": "qaA-HT4Xj74p",
        "colab_type": "code",
        "colab": {}
      },
      "source": [
        "for i in range(4):\n",
        "    df_test_img = pd.read_parquet('test_image_data_{}.parquet'.format(i)) \n",
        "    df_test_img.set_index('image_id', inplace=True)\n",
        "\n",
        "    X_test = df_test_img.values.reshape(-1,137,236,1)\n",
        "    \n",
        "    preds = model.predict(X_test)\n",
        "\n",
        "    for i, p in enumerate(preds_dict):\n",
        "        preds_dict[p] = np.argmax(preds[i], axis=1)\n",
        "\n",
        "    for k,id in enumerate(df_test_img.index.values):  \n",
        "        for i,comp in enumerate(components):\n",
        "            id_sample=id+'_'+comp\n",
        "            row_id.append(id_sample)\n",
        "            target.append(preds_dict[comp][k])\n",
        "    del df_test_img\n",
        "    del X_test"
      ],
      "execution_count": 0,
      "outputs": []
    },
    {
      "cell_type": "markdown",
      "metadata": {
        "id": "FUPunFRxDHJe",
        "colab_type": "text"
      },
      "source": [
        "# **OutPut CSV File**"
      ]
    },
    {
      "cell_type": "code",
      "metadata": {
        "id": "BGWXp92UlFQe",
        "colab_type": "code",
        "colab": {}
      },
      "source": [
        "df_sample = pd.DataFrame(\n",
        "    {\n",
        "        'row_id': row_id,\n",
        "        'target':target\n",
        "    },\n",
        "    columns = ['row_id','target'] \n",
        ")\n",
        "df_sample.to_csv('submission.csv',index=False)\n",
        "df_sample.head()"
      ],
      "execution_count": 0,
      "outputs": []
    },
    {
      "cell_type": "code",
      "metadata": {
        "id": "PffoA6RomMhl",
        "colab_type": "code",
        "colab": {}
      },
      "source": [
        ""
      ],
      "execution_count": 0,
      "outputs": []
    }
  ]
}